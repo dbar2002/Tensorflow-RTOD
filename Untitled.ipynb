{
 "cells": [
  {
   "cell_type": "code",
   "execution_count": null,
   "id": "6336053e-7bd7-4b0b-a7a1-14705cdf03dc",
   "metadata": {},
   "outputs": [],
   "source": [
    "import cv2 #opencv\n",
    "import os \n",
    "import time \n",
    "import uuid"
   ]
  },
  {
   "cell_type": "code",
   "execution_count": null,
   "id": "d6b092ce-a224-4ef6-95d7-4bd074a55c10",
   "metadata": {},
   "outputs": [],
   "source": [
    "IMAGES_PATH = 'Tensorflow/workspaces/images/collectedimages'"
   ]
  },
  {
   "cell_type": "code",
   "execution_count": null,
   "id": "782e60e8-1c51-4ef0-9a07-6379eec9bff8",
   "metadata": {},
   "outputs": [],
   "source": [
    "labels = ['Jesus', 'King', 'Applause']\n",
    "number_imgs = 15"
   ]
  },
  {
   "cell_type": "code",
   "execution_count": null,
   "id": "d9a6cfea-120b-4d76-b185-4f962efd46c5",
   "metadata": {},
   "outputs": [
    {
     "ename": "",
     "evalue": "",
     "output_type": "error",
     "traceback": [
      "\u001b[1;31mThe Kernel crashed while executing code in the the current cell or a previous cell. Please review the code in the cell(s) to identify a possible cause of the failure. Click <a href='https://aka.ms/vscodeJupyterKernelCrash'>here</a> for more info. View Jupyter <a href='command:jupyter.viewOutput'>log</a> for further details."
     ]
    }
   ],
   "source": [
    "for label in labels: \n",
    "    !mkdir {'Tensorflow/workspace/images/collectedimages\\\\'+label} #need 3 folders inside of colected images one for each word\n",
    "    cap = cv2.VideoCapture(0) #intitializes webcam\n",
    "    print('Collecting images for {}'.format(label))\n",
    "    time.sleep(5)\n",
    "    for imgnum in range (number_imgs):\n",
    "        ret, frame = cap.read()\n",
    "        imgname = os.path.join(IMAGES_PATH, label, label+'.'+'{}.jpg'.format(str(uuid.uuid1())))\n",
    "        cv2.imwrite(imgname,frame)\n",
    "        cv2.imshow('frame',frame)\n",
    "        time.sleep(2)\n",
    "\n",
    "        if cv2.waitKey(1) & 0xFF == ord('q'):\n",
    "            break"
   ]
  },
  {
   "cell_type": "code",
   "execution_count": null,
   "id": "212b1036-f6fe-4572-8a1a-9f78548cbb37",
   "metadata": {},
   "outputs": [],
   "source": []
  }
 ],
 "metadata": {
  "kernelspec": {
   "display_name": "Python 3 (ipykernel)",
   "language": "python",
   "name": "python3"
  },
  "language_info": {
   "codemirror_mode": {
    "name": "ipython",
    "version": 3
   },
   "file_extension": ".py",
   "mimetype": "text/x-python",
   "name": "python",
   "nbconvert_exporter": "python",
   "pygments_lexer": "ipython3",
   "version": "3.11.6"
  }
 },
 "nbformat": 4,
 "nbformat_minor": 5
}
